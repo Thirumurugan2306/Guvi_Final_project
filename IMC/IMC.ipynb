{
 "cells": [
  {
   "cell_type": "code",
   "execution_count": 1,
   "id": "6e0c36b1",
   "metadata": {},
   "outputs": [],
   "source": [
    "import numpy as np\n",
    "import matplotlib.pyplot as plt\n",
    "from keras.models import Sequential\n",
    "from keras.layers import Conv2D, MaxPooling2D, Dense, Flatten\n",
    "from keras.preprocessing import image\n",
    "from keras.preprocessing.image import ImageDataGenerator\n",
    "\n"
   ]
  },
  {
   "cell_type": "code",
   "execution_count": 2,
   "id": "ef153623",
   "metadata": {},
   "outputs": [],
   "source": [
    "# Initializing the CNN\n",
    "classifier = Sequential()\n"
   ]
  },
  {
   "cell_type": "code",
   "execution_count": 3,
   "id": "8d19c3d1",
   "metadata": {},
   "outputs": [],
   "source": [
    "\n",
    "# Part 2 - Fitting the CNN to the images\n",
    "train_datagen = ImageDataGenerator(rescale=1./255,\n",
    "                                   shear_range=0.2,\n",
    "                                   zoom_range=0.2,\n",
    "                                   horizontal_flip=True)\n",
    "\n",
    "test_datagen = ImageDataGenerator(rescale=1./255)\n"
   ]
  },
  {
   "cell_type": "code",
   "execution_count": 5,
   "id": "4d81709f",
   "metadata": {},
   "outputs": [
    {
     "name": "stdout",
     "output_type": "stream",
     "text": [
      "Found 8000 images belonging to 2 classes.\n",
      "Found 2000 images belonging to 2 classes.\n"
     ]
    }
   ],
   "source": [
    "\n",
    "training_set = train_datagen.flow_from_directory(r'C:\\Users\\thiru\\Documents\\Final Project\\IMC\\dataset\\training_set',\n",
    "                                                 target_size=(64, 64),\n",
    "                                                 batch_size=32,\n",
    "                                                 class_mode='binary')\n",
    "\n",
    "test_set = test_datagen.flow_from_directory(r'C:\\Users\\thiru\\Documents\\Final Project\\IMC\\dataset\\test_set',\n",
    "                                            target_size=(64, 64),\n",
    "                                            batch_size=32,\n",
    "                                            class_mode='binary')\n"
   ]
  },
  {
   "cell_type": "code",
   "execution_count": 6,
   "id": "b8020833",
   "metadata": {},
   "outputs": [],
   "source": [
    "\n",
    "# Step 1 - Convolution\n",
    "classifier.add(Conv2D(32, (3, 3), input_shape=(64, 64, 3), activation='relu'))\n",
    "\n",
    "# Step 2 - Pooling\n",
    "classifier.add(MaxPooling2D(pool_size=(2, 2)))\n",
    "\n",
    "# Step 3 - Flattening\n",
    "classifier.add(Flatten())\n",
    "\n",
    "# Step 4 - Full connection\n",
    "classifier.add(Dense(units=128, activation='relu'))\n",
    "classifier.add(Dense(units=1, activation='sigmoid'))\n",
    "\n",
    "# Compile the CNN\n",
    "classifier.compile(optimizer='adam', loss='binary_crossentropy', metrics=['accuracy'])\n"
   ]
  },
  {
   "cell_type": "code",
   "execution_count": 8,
   "id": "509d1988",
   "metadata": {},
   "outputs": [
    {
     "name": "stdout",
     "output_type": "stream",
     "text": [
      "Epoch 1/20\n"
     ]
    },
    {
     "name": "stderr",
     "output_type": "stream",
     "text": [
      "C:\\Users\\thiru\\AppData\\Local\\Temp\\ipykernel_3600\\2773116952.py:2: UserWarning: `Model.fit_generator` is deprecated and will be removed in a future version. Please use `Model.fit`, which supports generators.\n",
      "  classifier.fit_generator(training_set,\n"
     ]
    },
    {
     "name": "stdout",
     "output_type": "stream",
     "text": [
      "250/250 [==============================] - 109s 435ms/step - loss: 0.6294 - accuracy: 0.6461 - val_loss: 0.6259 - val_accuracy: 0.6350\n",
      "Epoch 2/20\n",
      "250/250 [==============================] - 49s 196ms/step - loss: 0.5875 - accuracy: 0.6964 - val_loss: 0.6451 - val_accuracy: 0.6535\n",
      "Epoch 3/20\n",
      "250/250 [==============================] - 55s 220ms/step - loss: 0.5556 - accuracy: 0.7151 - val_loss: 0.5624 - val_accuracy: 0.7135\n",
      "Epoch 4/20\n",
      "250/250 [==============================] - 54s 217ms/step - loss: 0.5312 - accuracy: 0.7289 - val_loss: 0.5272 - val_accuracy: 0.7425\n",
      "Epoch 5/20\n",
      "250/250 [==============================] - 55s 221ms/step - loss: 0.5251 - accuracy: 0.7291 - val_loss: 0.5393 - val_accuracy: 0.7290\n",
      "Epoch 6/20\n",
      "250/250 [==============================] - 53s 213ms/step - loss: 0.5048 - accuracy: 0.7460 - val_loss: 0.5108 - val_accuracy: 0.7420\n",
      "Epoch 7/20\n",
      "250/250 [==============================] - 53s 213ms/step - loss: 0.4920 - accuracy: 0.7594 - val_loss: 0.5697 - val_accuracy: 0.7250\n",
      "Epoch 8/20\n",
      "250/250 [==============================] - 50s 202ms/step - loss: 0.4817 - accuracy: 0.7697 - val_loss: 0.5415 - val_accuracy: 0.7495\n",
      "Epoch 9/20\n",
      "250/250 [==============================] - 70s 280ms/step - loss: 0.4750 - accuracy: 0.7710 - val_loss: 0.5211 - val_accuracy: 0.7620\n",
      "Epoch 10/20\n",
      "250/250 [==============================] - 139s 559ms/step - loss: 0.4562 - accuracy: 0.7885 - val_loss: 0.5211 - val_accuracy: 0.7620\n",
      "Epoch 11/20\n",
      "250/250 [==============================] - 155s 619ms/step - loss: 0.4475 - accuracy: 0.7884 - val_loss: 0.5133 - val_accuracy: 0.7650\n",
      "Epoch 12/20\n",
      "250/250 [==============================] - 128s 509ms/step - loss: 0.4316 - accuracy: 0.7971 - val_loss: 0.5172 - val_accuracy: 0.7610\n",
      "Epoch 13/20\n",
      "250/250 [==============================] - 354s 1s/step - loss: 0.4187 - accuracy: 0.8037 - val_loss: 0.5336 - val_accuracy: 0.7580\n",
      "Epoch 14/20\n",
      "250/250 [==============================] - 357s 1s/step - loss: 0.4107 - accuracy: 0.8111 - val_loss: 0.5235 - val_accuracy: 0.7785\n",
      "Epoch 15/20\n",
      "250/250 [==============================] - 485s 2s/step - loss: 0.3962 - accuracy: 0.8194 - val_loss: 0.5551 - val_accuracy: 0.7705\n",
      "Epoch 16/20\n",
      "250/250 [==============================] - 312s 1s/step - loss: 0.3869 - accuracy: 0.8249 - val_loss: 0.5439 - val_accuracy: 0.7685\n",
      "Epoch 17/20\n",
      "250/250 [==============================] - 354s 1s/step - loss: 0.3755 - accuracy: 0.8314 - val_loss: 0.5481 - val_accuracy: 0.7620\n",
      "Epoch 18/20\n",
      "250/250 [==============================] - 354s 1s/step - loss: 0.3594 - accuracy: 0.8413 - val_loss: 0.5720 - val_accuracy: 0.7645\n",
      "Epoch 19/20\n",
      "250/250 [==============================] - 286s 1s/step - loss: 0.3400 - accuracy: 0.8480 - val_loss: 0.6043 - val_accuracy: 0.7685\n",
      "Epoch 20/20\n",
      "250/250 [==============================] - 384s 2s/step - loss: 0.3381 - accuracy: 0.8496 - val_loss: 0.5495 - val_accuracy: 0.7840\n"
     ]
    },
    {
     "data": {
      "text/plain": [
       "<keras.src.callbacks.History at 0x187f7626090>"
      ]
     },
     "execution_count": 8,
     "metadata": {},
     "output_type": "execute_result"
    }
   ],
   "source": [
    "# Fit the CNN to the images\n",
    "classifier.fit_generator(training_set,\n",
    "                         steps_per_epoch=len(training_set),\n",
    "                         epochs=20,\n",
    "                         validation_data=test_set,\n",
    "                         validation_steps=len(test_set))\n",
    "\n",
    "\n"
   ]
  },
  {
   "cell_type": "code",
   "execution_count": 9,
   "id": "fa397173",
   "metadata": {},
   "outputs": [],
   "source": [
    "# To predict new images\n",
    "def predict_image(imagepath, classifier):\n",
    "    predict = image.load_img(imagepath, target_size=(64, 64))\n",
    "    predict_modified = image.img_to_array(predict)\n",
    "    predict_modified = predict_modified / 255\n",
    "    predict_modified = np.expand_dims(predict_modified, axis=0)\n",
    "    result = classifier.predict(predict_modified)\n",
    "    if result[0][0] >= 0.5:\n",
    "        prediction = 'dog'\n",
    "        probability = result[0][0]\n",
    "        print(\"Probability = \" + str(probability))\n",
    "    else:\n",
    "        prediction = 'cat'\n",
    "        probability = 1 - result[0][0]\n",
    "        print(\"Probability = \" + str(probability))\n",
    "    print(\"Prediction = \" + prediction)\n"
   ]
  },
  {
   "cell_type": "code",
   "execution_count": 12,
   "id": "cea1ea67",
   "metadata": {},
   "outputs": [
    {
     "name": "stdout",
     "output_type": "stream",
     "text": [
      "Model: \"sequential\"\n",
      "_________________________________________________________________\n",
      " Layer (type)                Output Shape              Param #   \n",
      "=================================================================\n",
      " conv2d (Conv2D)             (None, 62, 62, 32)        896       \n",
      "                                                                 \n",
      " max_pooling2d (MaxPooling2  (None, 31, 31, 32)        0         \n",
      " D)                                                              \n",
      "                                                                 \n",
      " flatten (Flatten)           (None, 30752)             0         \n",
      "                                                                 \n",
      " dense (Dense)               (None, 128)               3936384   \n",
      "                                                                 \n",
      " dense_1 (Dense)             (None, 1)                 129       \n",
      "                                                                 \n",
      "=================================================================\n",
      "Total params: 3937409 (15.02 MB)\n",
      "Trainable params: 3937409 (15.02 MB)\n",
      "Non-trainable params: 0 (0.00 Byte)\n",
      "_________________________________________________________________\n"
     ]
    }
   ],
   "source": [
    "classifier.summary()"
   ]
  },
  {
   "cell_type": "code",
   "execution_count": 11,
   "id": "30ddd700",
   "metadata": {},
   "outputs": [
    {
     "name": "stderr",
     "output_type": "stream",
     "text": [
      "C:\\Users\\thiru\\anaconda3\\Lib\\site-packages\\keras\\src\\engine\\training.py:3079: UserWarning: You are saving your model as an HDF5 file via `model.save()`. This file format is considered legacy. We recommend using instead the native Keras format, e.g. `model.save('my_model.keras')`.\n",
      "  saving_api.save_model(\n"
     ]
    }
   ],
   "source": [
    "classifier.save(r'C:\\Users\\thiru\\Documents\\Final Project\\IMC\\IMC_saved_model.h5')"
   ]
  },
  {
   "cell_type": "code",
   "execution_count": null,
   "id": "1ffd3e89",
   "metadata": {},
   "outputs": [],
   "source": []
  },
  {
   "cell_type": "code",
   "execution_count": null,
   "id": "51345fad",
   "metadata": {},
   "outputs": [],
   "source": []
  },
  {
   "cell_type": "code",
   "execution_count": null,
   "id": "b1b851e6",
   "metadata": {},
   "outputs": [],
   "source": []
  }
 ],
 "metadata": {
  "kernelspec": {
   "display_name": "Python 3 (ipykernel)",
   "language": "python",
   "name": "python3"
  },
  "language_info": {
   "codemirror_mode": {
    "name": "ipython",
    "version": 3
   },
   "file_extension": ".py",
   "mimetype": "text/x-python",
   "name": "python",
   "nbconvert_exporter": "python",
   "pygments_lexer": "ipython3",
   "version": "3.11.5"
  }
 },
 "nbformat": 4,
 "nbformat_minor": 5
}
